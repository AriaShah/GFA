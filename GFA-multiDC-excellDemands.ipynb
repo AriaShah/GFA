{
 "cells": [
  {
   "cell_type": "code",
   "execution_count": null,
   "metadata": {},
   "outputs": [],
   "source": [
    "# -*- coding: utf-8 -*-\n",
    "\"\"\"\n",
    "Created on Wed Aug 17 21:49:30 2022\n",
    "\n",
    "@author: HP\n",
    "\"\"\"\n",
    "\n",
    "import numpy as np\n",
    "import pandas as pd\n",
    "import random\n",
    "import math\n",
    "from deap import base\n",
    "from deap import creator\n",
    "from deap import tools\n",
    "from deap import algorithms\n",
    "\n",
    "# This function evaluate the weighted distance of customers to DCs\n",
    "def evaldist(individual):\n",
    "    # Assign customers to DCs randomly\n",
    "    c2DC = np.zeros((customN,DCN), dtype=np.uint8)\n",
    "    c2DC[np.arange(customN) , np.random.randint(0,DCN, size=customN)] = 1\n",
    "    # Calculate the weighted distance\n",
    "    for j in range(DCN):\n",
    "        Dist[j] = 0\n",
    "        for i in range(customN):\n",
    "            if c2DC[i,j] == 1:\n",
    "                Dist[j] += math.sqrt((individual[j*2]-df[i,0])**2+(individual[j*2+1]-df[i,1])**2)*df[i,2]\n",
    "    return sum(Dist),\n",
    "\n",
    "df = pd.read_excel('C:/Users/HP/Desktop/GFA.xlsx' )\n",
    "df = df.to_numpy()\n",
    "customN = (len(df))\n",
    "DCN = int(input(\"Enter the number of distribution centers?\"))\n",
    "indLength = DCN*2\n",
    "Dist = np.empty(shape=(DCN))\n",
    "minvalue = df[:, 0:2].min()\n",
    "maxvalue = df[:, 0:2].max()\n",
    "creator.create(\"FitnessMin\", base.Fitness, weights=(-1.0,))\n",
    "creator.create(\"Individual\", list, fitness=creator.FitnessMin)\n",
    "toolbox = base.Toolbox()\n",
    "# Attribute generator \n",
    "toolbox.register(\"attr_xy\", random.randint, minvalue, maxvalue)\n",
    "# Structure initializers\n",
    "toolbox.register(\"individual\", tools.initRepeat, creator.Individual, \n",
    "    toolbox.attr_xy, indLength)\n",
    "toolbox.register(\"population\", tools.initRepeat, list, toolbox.individual)\n",
    "\n",
    "toolbox.register(\"evaluate\", evaldist)\n",
    "toolbox.register(\"mate\", tools.cxOnePoint)\n",
    "toolbox.register(\"mutate\", tools.mutFlipBit, indpb=0.1)\n",
    "toolbox.register(\"select\", tools.selTournament, tournsize=3)\n",
    "pop = toolbox.population(n=300)\n",
    "hof = tools.HallOfFame(1)\n",
    "pop, log = algorithms.eaSimple(pop, toolbox, cxpb=0.5, mutpb=0.2, ngen=40, \n",
    "                               halloffame=hof, verbose=True)\n",
    "print(f\"The best individual: {hof}\")\n"
   ]
  }
 ],
 "metadata": {
  "kernelspec": {
   "display_name": "Python 3",
   "language": "python",
   "name": "python3"
  },
  "language_info": {
   "codemirror_mode": {
    "name": "ipython",
    "version": 3
   },
   "file_extension": ".py",
   "mimetype": "text/x-python",
   "name": "python",
   "nbconvert_exporter": "python",
   "pygments_lexer": "ipython3",
   "version": "3.8.5"
  }
 },
 "nbformat": 4,
 "nbformat_minor": 4
}
